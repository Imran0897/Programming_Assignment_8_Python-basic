{
 "cells": [
  {
   "cell_type": "code",
   "execution_count": 40,
   "id": "01d16859",
   "metadata": {},
   "outputs": [],
   "source": [
    "#1.\n",
    "\n",
    "import numpy as np\n",
    "def add_matrix(x,y):\n",
    "    if np.shape(x)==np.shape(y):\n",
    "        \n",
    "        mat_result = np.zeros(np.shape(x))\n",
    "        for i in range(len(x)):\n",
    "            for j in range(len(x[i])):\n",
    "                mat_result[i][j]= x[i][j] + y[i][j]\n",
    "        print(mat_result)\n",
    "    else:\n",
    "        print(\"invilid matrix\")"
   ]
  },
  {
   "cell_type": "code",
   "execution_count": 85,
   "id": "5a5c93e3",
   "metadata": {},
   "outputs": [
    {
     "name": "stdout",
     "output_type": "stream",
     "text": [
      "[[ 1805. 50957.  1508.  5809.]\n",
      " [ 3235. 23178.  3746.  2753.]\n",
      " [ 2024. 20527.  2910.  2551.]\n",
      " [ 2227. 54380.  4196.  6719.]]\n"
     ]
    }
   ],
   "source": [
    "#2.\n",
    "\n",
    "import numpy as np\n",
    "def multiplication_matrix(x,y):\n",
    "    mat_result = np.zeros((np.shape(x)[0],np.shape(y)[1]))\n",
    "    if np.shape(x)[0]==np.shape(y)[1]:\n",
    "        \n",
    "        for i in range(int(np.shape(x)[1])):\n",
    "            for j in range(int(np.shape(y)[0])):\n",
    "                for k in range(int(np.shape(y)[1])):\n",
    "                    \n",
    "                    mat_result[i][j] += x[i][k] * y[k][j]\n",
    "        print(mat_result)\n",
    "\n",
    "x = [[21,51, 10, 71],\n",
    "     [51,92, 42, 22],\n",
    "     [3, 53, 83, 23],\n",
    "     [41, 58, 66, 74]]\n",
    "y = [[1, 10, 44, 11],\n",
    "     [33, 85, 1, 2],\n",
    "     [3, 12, 32, 8],\n",
    "     [1, 652, 3, 76]]\n",
    "\n",
    "multiplication_matrix(x,y)"
   ]
  },
  {
   "cell_type": "code",
   "execution_count": 103,
   "id": "676e9072",
   "metadata": {},
   "outputs": [],
   "source": [
    "#3.\n",
    "\n",
    "def transpose_matrix(x):\n",
    "    mat_result = np.zeros((np.shape(x)[1],np.shape(x)[0]))\n",
    "    \n",
    "    for i in range(len(x)):\n",
    "        for j in range(len(x[0])):\n",
    "            mat_result[j][i] = x[i][j]\n",
    "            \n",
    "    print(mat_result)\n",
    "        "
   ]
  },
  {
   "cell_type": "code",
   "execution_count": null,
   "id": "4e437c65",
   "metadata": {},
   "outputs": [],
   "source": [
    "#4.\n",
    "\n",
    "my_str = input(\"enter a sentence\")\n",
    "\n",
    "words = [word.lower() for word in my_str.split()]\n",
    "words.sort()\n",
    "print(\"The sorted words are:\")\n",
    "for i in words:\n",
    "   print(i)"
   ]
  },
  {
   "cell_type": "code",
   "execution_count": null,
   "id": "be27930d",
   "metadata": {},
   "outputs": [],
   "source": [
    "#5.\n",
    "\n",
    "punctuations = '''!()-[]{};:'\"\\,<>./?@#$%^&*_~'''\n",
    "\n",
    "my_str = \"Hello!!!, he said ---and went.\"\n",
    "\n",
    "no_punct = \"\"\n",
    "for i in my_str:\n",
    "   if i not in punctuations:\n",
    "       no_punct = no_punct + i\n",
    "\n",
    "print(no_punct)"
   ]
  }
 ],
 "metadata": {
  "kernelspec": {
   "display_name": "Python 3 (ipykernel)",
   "language": "python",
   "name": "python3"
  },
  "language_info": {
   "codemirror_mode": {
    "name": "ipython",
    "version": 3
   },
   "file_extension": ".py",
   "mimetype": "text/x-python",
   "name": "python",
   "nbconvert_exporter": "python",
   "pygments_lexer": "ipython3",
   "version": "3.9.7"
  }
 },
 "nbformat": 4,
 "nbformat_minor": 5
}
